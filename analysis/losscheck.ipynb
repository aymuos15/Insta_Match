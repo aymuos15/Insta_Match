{
 "cells": [
  {
   "cell_type": "code",
   "execution_count": 1,
   "metadata": {},
   "outputs": [],
   "source": [
    "import torch\n",
    "from torch.autograd.gradcheck import gradcheck as gc"
   ]
  },
  {
   "cell_type": "code",
   "execution_count": 2,
   "metadata": {},
   "outputs": [],
   "source": [
    "from losses.legacy_dice import DiceLoss\n",
    "# from losses.samplepqloss import PanopticQualityLoss3D\n",
    "from losses.lesion_wise_dice import LesionWiseDiceLoss\n",
    "from losses.region_dice import RegionDiceLoss\n",
    "from losses.cluster_dice import ClusterDiceLoss"
   ]
  },
  {
   "cell_type": "code",
   "execution_count": 3,
   "metadata": {},
   "outputs": [],
   "source": [
    "import warnings\n",
    "warnings.filterwarnings(\"ignore\")"
   ]
  },
  {
   "cell_type": "code",
   "execution_count": 4,
   "metadata": {},
   "outputs": [],
   "source": [
    "# Set up inputs for gradient checking\n",
    "pred = torch.randn(2, 3, 4, 4, dtype=torch.double, requires_grad=True)\n",
    "gt = torch.randint(0, 2, (2, 3, 4, 4), dtype=torch.double)"
   ]
  },
  {
   "cell_type": "code",
   "execution_count": 5,
   "metadata": {},
   "outputs": [
    {
     "name": "stdout",
     "output_type": "stream",
     "text": [
      "Gradient check passed: True\n"
     ]
    }
   ],
   "source": [
    "# Create a function that takes inputs and returns the loss\n",
    "def dice_loss_func(pred, gt):\n",
    "    loss_fn = DiceLoss(smooth=1, p=2, reduction='mean')\n",
    "    return loss_fn(pred, gt)\n",
    "\n",
    "# Perform gradient check\n",
    "torch.set_printoptions(precision=10)\n",
    "test = gc(dice_loss_func, (pred, gt), eps=1e-6, atol=1e-4)\n",
    "\n",
    "print(\"Gradient check passed:\", test)"
   ]
  },
  {
   "cell_type": "code",
   "execution_count": 6,
   "metadata": {},
   "outputs": [],
   "source": [
    "# def samplepq_loss_func(pred, gt):\n",
    "#     loss_fn = PanopticQualityLoss3D()\n",
    "#     return loss_fn(pred, gt)\n",
    "\n",
    "# test = gc(samplepq_loss_func, (pred, gt), eps=1e-6, atol=1e-4)\n",
    "\n",
    "# print(\"Gradient check passed:\", test)"
   ]
  },
  {
   "cell_type": "code",
   "execution_count": 7,
   "metadata": {},
   "outputs": [
    {
     "name": "stdout",
     "output_type": "stream",
     "text": [
      "Gradient check passed: True\n"
     ]
    }
   ],
   "source": [
    "def lesion_wise_dice_loss_func(pred, gt):\n",
    "    loss_fn = LesionWiseDiceLoss()\n",
    "    return loss_fn(pred, gt)\n",
    "\n",
    "torch.set_printoptions(precision=10)\n",
    "test = gc(lesion_wise_dice_loss_func, (pred, gt), eps=1e-6, atol=1e-4)\n",
    "\n",
    "print(\"Gradient check passed:\", test)"
   ]
  },
  {
   "cell_type": "code",
   "execution_count": 8,
   "metadata": {},
   "outputs": [
    {
     "name": "stdout",
     "output_type": "stream",
     "text": [
      "Gradient check passed: True\n"
     ]
    }
   ],
   "source": [
    "def region_dice_loss_func(inputs, targets):\n",
    "    loss_fn = RegionDiceLoss()\n",
    "    return loss_fn(inputs, targets)\n",
    "\n",
    "# Perform gradient check\n",
    "torch.set_printoptions(precision=10)\n",
    "\n",
    "test = gc(region_dice_loss_func, (pred, gt), eps=1e-6, atol=1e-4)\n",
    "\n",
    "print(\"Gradient check passed:\", test)"
   ]
  },
  {
   "cell_type": "code",
   "execution_count": 9,
   "metadata": {},
   "outputs": [
    {
     "name": "stdout",
     "output_type": "stream",
     "text": [
      "Gradient check passed: True\n"
     ]
    }
   ],
   "source": [
    "def cluster_dice_loss_func(inputs, targets):\n",
    "    loss_fn = ClusterDiceLoss()\n",
    "    return loss_fn(inputs, targets)\n",
    "\n",
    "# Perform gradient check\n",
    "torch.set_printoptions(precision=10)\n",
    "\n",
    "test = gc(cluster_dice_loss_func, (pred, gt), eps=1e-6, atol=1e-4)\n",
    "\n",
    "print(\"Gradient check passed:\", test)"
   ]
  }
 ],
 "metadata": {
  "kernelspec": {
   "display_name": "cucim",
   "language": "python",
   "name": "python3"
  },
  "language_info": {
   "codemirror_mode": {
    "name": "ipython",
    "version": 3
   },
   "file_extension": ".py",
   "mimetype": "text/x-python",
   "name": "python",
   "nbconvert_exporter": "python",
   "pygments_lexer": "ipython3",
   "version": "3.8.19"
  }
 },
 "nbformat": 4,
 "nbformat_minor": 2
}
